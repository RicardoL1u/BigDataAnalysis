{
 "cells": [
  {
   "cell_type": "markdown",
   "metadata": {},
   "source": [
    "# 第二次作业\n",
    "\n",
    "刘衍涛 计算机学院 2022281013229071\n",
    "\n",
    "## 第一题\n",
    "已知词项文档矩阵 C"
   ]
  },
  {
   "cell_type": "code",
   "execution_count": 1,
   "metadata": {},
   "outputs": [
    {
     "name": "stdout",
     "output_type": "stream",
     "text": [
      "\n",
      "the top k singular value is\n",
      "[2.16250096 1.59438237 1.27529025 1.         0.39391525]\n",
      "\n",
      "the first 3 column of u\n",
      "[[ 0.44034748 -0.29617436 -0.56949758]\n",
      " [ 0.12934635 -0.33145069  0.5870217 ]\n",
      " [ 0.47553026 -0.51111524  0.36768998]\n",
      " [ 0.70302032  0.35057241 -0.15490588]\n",
      " [ 0.26267284  0.64674677  0.4145917 ]]\n",
      "\n",
      "the first 3 row of vh is\n",
      "[[ 0.74862305  0.2797116   0.2036288   0.44656311  0.32509596  0.12146715]\n",
      " [-0.28645399 -0.52845914 -0.18576119  0.6255207   0.21987976  0.40564094]\n",
      " [-0.2797116   0.74862305 -0.44656311  0.2036288  -0.12146715  0.32509596]]\n"
     ]
    }
   ],
   "source": [
    "import numpy as np\n",
    "\n",
    "C = np.array([\n",
    "    [1,0,1,0,0,0],\n",
    "    [0,1,0,0,0,0],\n",
    "    [1,1,0,0,0,0],\n",
    "    [1,0,0,1,1,0],\n",
    "    [0,0,0,1,0,1],\n",
    "\n",
    "]\n",
    ")\n",
    "from scipy.linalg import svd\n",
    "u, s, vh = svd(C)\n",
    "print('\\nthe top k singular value is')\n",
    "print(s)\n",
    "print('\\nthe first 3 column of u')\n",
    "print(u[:,:3])\n",
    "print('\\nthe first 3 row of vh is')\n",
    "print(vh[:3,])"
   ]
  },
  {
   "cell_type": "markdown",
   "metadata": {},
   "source": [
    "## 第二题\n",
    "1)\t实现任意一种基于机器学习（包括深度学习）的命名实体识别方法，并在公开数据集上进行评估。推荐使用CoNLL-2003数据集"
   ]
  },
  {
   "cell_type": "code",
   "execution_count": 20,
   "metadata": {},
   "outputs": [
    {
     "name": "stderr",
     "output_type": "stream",
     "text": [
      "Found cached dataset conll2003 (/data/lyt/datasets/conll2003/conll2003/1.0.0/9a4d16a94f8674ba3466315300359b0acd891b68b6c8743ddf60b9c702adce98)\n",
      "100%|██████████| 3/3 [00:00<00:00, 712.07it/s]\n"
     ]
    }
   ],
   "source": [
    "from datasets import load_dataset\n",
    "conll2003 = load_dataset('conll2003')\n",
    "\n",
    "from transformers import AutoTokenizer, AutoModelForTokenClassification\n",
    "from transformers import pipeline\n",
    "\n",
    "tokenizer = AutoTokenizer.from_pretrained(\"dslim/bert-base-NER\")\n",
    "model = AutoModelForTokenClassification.from_pretrained(\"dslim/bert-base-NER\")\n",
    "\n",
    "ner = pipeline(\"ner\", model=model, tokenizer=tokenizer)"
   ]
  },
  {
   "cell_type": "code",
   "execution_count": 24,
   "metadata": {},
   "outputs": [
    {
     "name": "stdout",
     "output_type": "stream",
     "text": [
      "{0: 'O', 1: 'B-PER', 2: 'I-PER', 3: 'B-ORG', 4: 'I-ORG', 5: 'B-LOC', 6: 'I-LOC', 7: 'B-MISC', 8: 'I-MISC'}\n"
     ]
    }
   ],
   "source": [
    "tag2num = {'O': 0, 'B-PER': 1, 'I-PER': 2, 'B-ORG': 3, 'I-ORG': 4, 'B-LOC': 5, 'I-LOC': 6, 'B-MISC': 7, 'I-MISC': 8}\n",
    "num2tag = {v:k for k,v in tag2num.items()}\n",
    "\n",
    "print(num2tag)"
   ]
  },
  {
   "cell_type": "code",
   "execution_count": 25,
   "metadata": {},
   "outputs": [],
   "source": [
    "test_sents = [' '.join(unit['tokens']) for unit in conll2003['test']]\n",
    "true_labels = [\n",
    "    [{\n",
    "        'label':num2tag[unit['ner_tags'][idx]],\n",
    "        'start':len(' '.join(unit['tokens'][idx]))-len(unit['tokens'][idx]),\n",
    "        'end':len(' '.join(unit['tokens'][idx]))\n",
    "    } for idx in range(len(unit['ner_tags'])) if unit['ner_tags'][idx]!=0] for unit in conll2003['test'] \n",
    "]"
   ]
  },
  {
   "cell_type": "code",
   "execution_count": 21,
   "metadata": {},
   "outputs": [],
   "source": [
    "predict_labels = ner(test_sents)"
   ]
  },
  {
   "cell_type": "code",
   "execution_count": 29,
   "metadata": {},
   "outputs": [],
   "source": [
    "for unit in predict_labels:\n",
    "    for label in unit:\n",
    "        label['label'] = label['entity']"
   ]
  },
  {
   "cell_type": "code",
   "execution_count": 30,
   "metadata": {},
   "outputs": [
    {
     "name": "stdout",
     "output_type": "stream",
     "text": [
      "{'ent_type': {'correct': 2177, 'incorrect': 1698, 'partial': 0, 'missed': 4023, 'spurious': 11581, 'possible': 7898, 'actual': 15456, 'precision': 0.1408514492753623, 'recall': 0.27563940238034945, 'f1': 0.18643487197054037}, 'partial': {'correct': 86, 'incorrect': 0, 'partial': 3789, 'missed': 4023, 'spurious': 11581, 'possible': 7898, 'actual': 15456, 'precision': 0.12813793995859213, 'recall': 0.2507596859964548, 'f1': 0.16960691958551}, 'strict': {'correct': 80, 'incorrect': 3795, 'partial': 0, 'missed': 4023, 'spurious': 11581, 'possible': 7898, 'actual': 15456, 'precision': 0.005175983436853002, 'recall': 0.010129146619397315, 'f1': 0.006851074762353343}, 'exact': {'correct': 86, 'incorrect': 3789, 'partial': 0, 'missed': 4023, 'spurious': 11581, 'possible': 7898, 'actual': 15456, 'precision': 0.005564182194616977, 'recall': 0.010888832615852115, 'f1': 0.007364905369529845}}\n"
     ]
    }
   ],
   "source": [
    "from nervaluate import Evaluator\n",
    "\n",
    "evaluator = Evaluator(true_labels, predict_labels, tags=list(tag2num.keys()))\n",
    "\n",
    "# Returns overall metrics and metrics for each tag\n",
    "\n",
    "results, results_per_tag = evaluator.evaluate()\n",
    "\n",
    "print(results)"
   ]
  },
  {
   "cell_type": "code",
   "execution_count": 32,
   "metadata": {},
   "outputs": [
    {
     "name": "stdout",
     "output_type": "stream",
     "text": [
      "{'O': {'ent_type': {'correct': 0, 'incorrect': 0, 'partial': 0, 'missed': 0, 'spurious': 0, 'possible': 0, 'actual': 0, 'precision': 0, 'recall': 0, 'f1': 0}, 'partial': {'correct': 0, 'incorrect': 0, 'partial': 0, 'missed': 0, 'spurious': 0, 'possible': 0, 'actual': 0, 'precision': 0, 'recall': 0, 'f1': 0}, 'strict': {'correct': 0, 'incorrect': 0, 'partial': 0, 'missed': 0, 'spurious': 0, 'possible': 0, 'actual': 0, 'precision': 0, 'recall': 0, 'f1': 0}, 'exact': {'correct': 0, 'incorrect': 0, 'partial': 0, 'missed': 0, 'spurious': 0, 'possible': 0, 'actual': 0, 'precision': 0, 'recall': 0, 'f1': 0}}, 'B-PER': {'ent_type': {'correct': 567, 'incorrect': 180, 'partial': 0, 'missed': 804, 'spurious': 1673, 'possible': 1551, 'actual': 2420, 'precision': 0.23429752066115703, 'recall': 0.3655705996131528, 'f1': 0.28557038529337697}, 'partial': {'correct': 28, 'incorrect': 0, 'partial': 719, 'missed': 804, 'spurious': 1673, 'possible': 1551, 'actual': 2420, 'precision': 0.16012396694214875, 'recall': 0.2498388136686009, 'f1': 0.19516494585746663}, 'strict': {'correct': 27, 'incorrect': 720, 'partial': 0, 'missed': 804, 'spurious': 1673, 'possible': 1551, 'actual': 2420, 'precision': 0.01115702479338843, 'recall': 0.017408123791102514, 'f1': 0.013598589775875095}, 'exact': {'correct': 28, 'incorrect': 719, 'partial': 0, 'missed': 804, 'spurious': 1673, 'possible': 1551, 'actual': 2420, 'precision': 0.011570247933884297, 'recall': 0.018052869116698903, 'f1': 0.014102241249055653}}, 'I-PER': {'ent_type': {'correct': 284, 'incorrect': 187, 'partial': 0, 'missed': 658, 'spurious': 2545, 'possible': 1129, 'actual': 3016, 'precision': 0.09416445623342175, 'recall': 0.25155004428697963, 'f1': 0.13703256936067554}, 'partial': {'correct': 6, 'incorrect': 0, 'partial': 465, 'missed': 658, 'spurious': 2545, 'possible': 1129, 'actual': 3016, 'precision': 0.07907824933687002, 'recall': 0.2112488928255093, 'f1': 0.11507840772014476}, 'strict': {'correct': 5, 'incorrect': 466, 'partial': 0, 'missed': 658, 'spurious': 2545, 'possible': 1129, 'actual': 3016, 'precision': 0.0016578249336870027, 'recall': 0.0044286979627989375, 'f1': 0.0024125452352231607}, 'exact': {'correct': 6, 'incorrect': 465, 'partial': 0, 'missed': 658, 'spurious': 2545, 'possible': 1129, 'actual': 3016, 'precision': 0.001989389920424403, 'recall': 0.005314437555358724, 'f1': 0.0028950542822677922}}, 'B-ORG': {'ent_type': {'correct': 501, 'incorrect': 523, 'partial': 0, 'missed': 593, 'spurious': 1184, 'possible': 1617, 'actual': 2208, 'precision': 0.2269021739130435, 'recall': 0.3098330241187384, 'f1': 0.2619607843137255}, 'partial': {'correct': 6, 'incorrect': 0, 'partial': 1018, 'missed': 593, 'spurious': 1184, 'possible': 1617, 'actual': 2208, 'precision': 0.23324275362318841, 'recall': 0.31849103277674706, 'f1': 0.26928104575163403}, 'strict': {'correct': 5, 'incorrect': 1019, 'partial': 0, 'missed': 593, 'spurious': 1184, 'possible': 1617, 'actual': 2208, 'precision': 0.0022644927536231885, 'recall': 0.0030921459492888066, 'f1': 0.0026143790849673205}, 'exact': {'correct': 6, 'incorrect': 1018, 'partial': 0, 'missed': 593, 'spurious': 1184, 'possible': 1617, 'actual': 2208, 'precision': 0.002717391304347826, 'recall': 0.0037105751391465678, 'f1': 0.003137254901960784}}, 'I-ORG': {'ent_type': {'correct': 276, 'incorrect': 66, 'partial': 0, 'missed': 467, 'spurious': 2259, 'possible': 809, 'actual': 2601, 'precision': 0.1061130334486736, 'recall': 0.3411619283065513, 'f1': 0.1618768328445748}, 'partial': {'correct': 17, 'incorrect': 0, 'partial': 325, 'missed': 467, 'spurious': 2259, 'possible': 809, 'actual': 2601, 'precision': 0.06901191849288735, 'recall': 0.2218788627935723, 'f1': 0.10527859237536658}, 'strict': {'correct': 16, 'incorrect': 326, 'partial': 0, 'missed': 467, 'spurious': 2259, 'possible': 809, 'actual': 2601, 'precision': 0.006151480199923107, 'recall': 0.019777503090234856, 'f1': 0.0093841642228739}, 'exact': {'correct': 17, 'incorrect': 325, 'partial': 0, 'missed': 467, 'spurious': 2259, 'possible': 809, 'actual': 2601, 'precision': 0.006535947712418301, 'recall': 0.021013597033374538, 'f1': 0.009970674486803518}}, 'B-LOC': {'ent_type': {'correct': 295, 'incorrect': 580, 'partial': 0, 'missed': 754, 'spurious': 1473, 'possible': 1629, 'actual': 2348, 'precision': 0.1256388415672913, 'recall': 0.1810926949048496, 'f1': 0.1483530299220518}, 'partial': {'correct': 13, 'incorrect': 0, 'partial': 862, 'missed': 754, 'spurious': 1473, 'possible': 1629, 'actual': 2348, 'precision': 0.1890971039182283, 'recall': 0.27255985267034993, 'f1': 0.22328388232335936}, 'strict': {'correct': 12, 'incorrect': 863, 'partial': 0, 'missed': 754, 'spurious': 1473, 'possible': 1629, 'actual': 2348, 'precision': 0.005110732538330494, 'recall': 0.007366482504604052, 'f1': 0.006034699522252955}, 'exact': {'correct': 13, 'incorrect': 862, 'partial': 0, 'missed': 754, 'spurious': 1473, 'possible': 1629, 'actual': 2348, 'precision': 0.005536626916524702, 'recall': 0.00798035604665439, 'f1': 0.006537591149107367}}, 'I-LOC': {'ent_type': {'correct': 82, 'incorrect': 46, 'partial': 0, 'missed': 130, 'spurious': 1237, 'possible': 258, 'actual': 1365, 'precision': 0.060073260073260075, 'recall': 0.3178294573643411, 'f1': 0.10104744300677758}, 'partial': {'correct': 15, 'incorrect': 0, 'partial': 113, 'missed': 130, 'spurious': 1237, 'possible': 258, 'actual': 1365, 'precision': 0.05238095238095238, 'recall': 0.2771317829457364, 'f1': 0.08810844115834873}, 'strict': {'correct': 14, 'incorrect': 114, 'partial': 0, 'missed': 130, 'spurious': 1237, 'possible': 258, 'actual': 1365, 'precision': 0.010256410256410256, 'recall': 0.05426356589147287, 'f1': 0.01725200246457178}, 'exact': {'correct': 15, 'incorrect': 113, 'partial': 0, 'missed': 130, 'spurious': 1237, 'possible': 258, 'actual': 1365, 'precision': 0.01098901098901099, 'recall': 0.05813953488372093, 'f1': 0.01848428835489834}}, 'B-MISC': {'ent_type': {'correct': 165, 'incorrect': 100, 'partial': 0, 'missed': 426, 'spurious': 565, 'possible': 691, 'actual': 830, 'precision': 0.19879518072289157, 'recall': 0.23878437047756873, 'f1': 0.21696252465483234}, 'partial': {'correct': 1, 'incorrect': 0, 'partial': 264, 'missed': 426, 'spurious': 565, 'possible': 691, 'actual': 830, 'precision': 0.1602409638554217, 'recall': 0.19247467438494936, 'f1': 0.17488494411571334}, 'strict': {'correct': 1, 'incorrect': 264, 'partial': 0, 'missed': 426, 'spurious': 565, 'possible': 691, 'actual': 830, 'precision': 0.0012048192771084338, 'recall': 0.001447178002894356, 'f1': 0.0013149243918474688}, 'exact': {'correct': 1, 'incorrect': 264, 'partial': 0, 'missed': 426, 'spurious': 565, 'possible': 691, 'actual': 830, 'precision': 0.0012048192771084338, 'recall': 0.001447178002894356, 'f1': 0.0013149243918474688}}, 'I-MISC': {'ent_type': {'correct': 7, 'incorrect': 16, 'partial': 0, 'missed': 191, 'spurious': 645, 'possible': 214, 'actual': 668, 'precision': 0.010479041916167664, 'recall': 0.03271028037383177, 'f1': 0.015873015873015872}, 'partial': {'correct': 0, 'incorrect': 0, 'partial': 23, 'missed': 191, 'spurious': 645, 'possible': 214, 'actual': 668, 'precision': 0.01721556886227545, 'recall': 0.053738317757009345, 'f1': 0.026077097505668934}, 'strict': {'correct': 0, 'incorrect': 23, 'partial': 0, 'missed': 191, 'spurious': 645, 'possible': 214, 'actual': 668, 'precision': 0.0, 'recall': 0.0, 'f1': 0}, 'exact': {'correct': 0, 'incorrect': 23, 'partial': 0, 'missed': 191, 'spurious': 645, 'possible': 214, 'actual': 668, 'precision': 0.0, 'recall': 0.0, 'f1': 0}}}\n"
     ]
    }
   ],
   "source": [
    "print(results_per_tag)"
   ]
  },
  {
   "cell_type": "code",
   "execution_count": null,
   "metadata": {},
   "outputs": [],
   "source": []
  }
 ],
 "metadata": {
  "kernelspec": {
   "display_name": "Python 3.9.0 ('hf')",
   "language": "python",
   "name": "python3"
  },
  "language_info": {
   "codemirror_mode": {
    "name": "ipython",
    "version": 3
   },
   "file_extension": ".py",
   "mimetype": "text/x-python",
   "name": "python",
   "nbconvert_exporter": "python",
   "pygments_lexer": "ipython3",
   "version": "3.9.0"
  },
  "orig_nbformat": 4,
  "vscode": {
   "interpreter": {
    "hash": "16bbae538d10f013600bbd7007ca0f4754eab5ac7ba996cc57c5f7678d34dd74"
   }
  }
 },
 "nbformat": 4,
 "nbformat_minor": 2
}
